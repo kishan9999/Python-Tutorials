{
 "cells": [
  {
   "cell_type": "code",
   "execution_count": 1,
   "id": "88e8e947",
   "metadata": {},
   "outputs": [
    {
     "name": "stdout",
     "output_type": "stream",
     "text": [
      "[1, 4, 9, 16, 25, 36, 49, 64, 81, 100]\n"
     ]
    }
   ],
   "source": [
    "a = [1,2,3,4,5,6,7,8,9,10]\n",
    "\n",
    "b = list(map(lambda x:x**2, a))\n",
    "print(b)"
   ]
  },
  {
   "cell_type": "code",
   "execution_count": 4,
   "id": "0a394e36",
   "metadata": {},
   "outputs": [
    {
     "data": {
      "text/plain": [
       "[4, 16, 36, 64, 100]"
      ]
     },
     "execution_count": 4,
     "metadata": {},
     "output_type": "execute_result"
    }
   ],
   "source": [
    "c = [i**2 for i in a if i%2==0]\n",
    "c"
   ]
  },
  {
   "cell_type": "code",
   "execution_count": 5,
   "id": "f0ce9560",
   "metadata": {},
   "outputs": [
    {
     "name": "stdout",
     "output_type": "stream",
     "text": [
      "['my', 'name', 'is', 'kishan']\n"
     ]
    }
   ],
   "source": [
    "d = 'my name is kishan'\n",
    "print(d.split())"
   ]
  },
  {
   "cell_type": "code",
   "execution_count": 6,
   "id": "7dcefbdc",
   "metadata": {},
   "outputs": [
    {
     "name": "stdout",
     "output_type": "stream",
     "text": [
      "m-y- -n-a-m-e- -i-s- -k-i-s-h-a-n\n"
     ]
    }
   ],
   "source": [
    "d = 'my name is kishan'\n",
    "print('-'.join(d))"
   ]
  },
  {
   "cell_type": "code",
   "execution_count": 7,
   "id": "00ff6e92",
   "metadata": {},
   "outputs": [
    {
     "name": "stdout",
     "output_type": "stream",
     "text": [
      "0\n",
      "2\n"
     ]
    }
   ],
   "source": [
    "string = \"Python is awesome and Python is easy to learn\"\n",
    "print(string.find(\"Python\"))  # Output: 0 (index of first occurrence)\n",
    "print(string.count(\"Python\"))  # Output: 2 (number of occurrences)"
   ]
  },
  {
   "cell_type": "code",
   "execution_count": 8,
   "id": "dcae5038",
   "metadata": {},
   "outputs": [
    {
     "name": "stdout",
     "output_type": "stream",
     "text": [
      "Hello, World!\n"
     ]
    }
   ],
   "source": [
    "string = \"   Hello, World!   \"\n",
    "stripped_string = string.strip()\n",
    "print(stripped_string)  # Output: Hello, World!"
   ]
  },
  {
   "cell_type": "code",
   "execution_count": 9,
   "id": "6e572151",
   "metadata": {},
   "outputs": [
    {
     "name": "stdout",
     "output_type": "stream",
     "text": [
      "my-name-kishan\n"
     ]
    }
   ],
   "source": [
    "d = ['my','name','kishan']\n",
    "print('-'.join(d))"
   ]
  },
  {
   "cell_type": "code",
   "execution_count": 10,
   "id": "0be927c5",
   "metadata": {},
   "outputs": [
    {
     "name": "stdout",
     "output_type": "stream",
     "text": [
      "<b><i>Hello!</i></b>\n"
     ]
    }
   ],
   "source": [
    "def bold(func):\n",
    "    def wrapper():\n",
    "        return \"<b>\" + func() + \"</b>\"\n",
    "    return wrapper\n",
    "\n",
    "def italic(func):\n",
    "    def wrapper():\n",
    "        return \"<i>\" + func() + \"</i>\"\n",
    "    return wrapper\n",
    "\n",
    "@bold\n",
    "@italic\n",
    "def say_hello():\n",
    "    return \"Hello!\"\n",
    "\n",
    "print(say_hello())"
   ]
  },
  {
   "cell_type": "code",
   "execution_count": 11,
   "id": "fd4a5962",
   "metadata": {},
   "outputs": [
    {
     "name": "stdout",
     "output_type": "stream",
     "text": [
      "Calling add(<__main__.Calculator object at 0x00000196578BFD30>, 2, 3)\n",
      "add returned 5\n"
     ]
    },
    {
     "data": {
      "text/plain": [
       "5"
      ]
     },
     "execution_count": 11,
     "metadata": {},
     "output_type": "execute_result"
    }
   ],
   "source": [
    "def debug(func):\n",
    "    def wrapper(*args, **kwargs):\n",
    "        args_repr = [repr(a) for a in args]\n",
    "        kwargs_repr = [f\"{k}={v!r}\" for k, v in kwargs.items()]\n",
    "        signature = \", \".join(args_repr + kwargs_repr)\n",
    "        print(f\"Calling {func.__name__}({signature})\")\n",
    "        result = func(*args, **kwargs)\n",
    "        print(f\"{func.__name__} returned {result!r}\")\n",
    "        return result\n",
    "    return wrapper\n",
    "\n",
    "class Calculator:\n",
    "    @debug\n",
    "    def add(self, a, b):\n",
    "        return a + b\n",
    "\n",
    "calc = Calculator()\n",
    "calc.add(2, 3)\n"
   ]
  },
  {
   "cell_type": "code",
   "execution_count": 13,
   "id": "c046b10d",
   "metadata": {},
   "outputs": [
    {
     "name": "stdout",
     "output_type": "stream",
     "text": [
      "        date  value  rolling_sum\n",
      "0 2024-01-01      1          NaN\n",
      "1 2024-01-02      2          NaN\n",
      "2 2024-01-03      3          6.0\n",
      "3 2024-01-04      4          9.0\n",
      "4 2024-01-05      5         12.0\n",
      "5 2024-01-06      6         15.0\n",
      "6 2024-01-07      7         18.0\n",
      "7 2024-01-08      8         21.0\n",
      "8 2024-01-09      9         24.0\n",
      "9 2024-01-10     10         27.0\n"
     ]
    }
   ],
   "source": [
    "import pandas as pd\n",
    "\n",
    "data = {'date': pd.date_range('2024-01-01', periods=10),\n",
    "        'value': [1, 2, 3, 4, 5, 6, 7, 8, 9, 10]}\n",
    "df = pd.DataFrame(data)\n",
    "\n",
    "# Calculate the rolling sum of the 'value' column over a window size of 3\n",
    "df['rolling_sum'] = df['value'].rolling(window=3).sum()\n",
    "print(df)"
   ]
  },
  {
   "cell_type": "code",
   "execution_count": 14,
   "id": "d279b74f",
   "metadata": {},
   "outputs": [
    {
     "name": "stdout",
     "output_type": "stream",
     "text": [
      "        date  value  rolling_sum  rolling_mean  expanding_sum  cum_max\n",
      "0 2024-01-01      1          NaN           NaN            1.0        1\n",
      "1 2024-01-02      2          NaN           1.5            3.0        2\n",
      "2 2024-01-03      3          6.0           2.5            6.0        3\n",
      "3 2024-01-04      4          9.0           3.5           10.0        4\n",
      "4 2024-01-05      5         12.0           4.5           15.0        5\n",
      "5 2024-01-06      6         15.0           5.5           21.0        6\n",
      "6 2024-01-07      7         18.0           6.5           28.0        7\n",
      "7 2024-01-08      8         21.0           7.5           36.0        8\n",
      "8 2024-01-09      9         24.0           8.5           45.0        9\n",
      "9 2024-01-10     10         27.0           9.5           55.0       10\n"
     ]
    }
   ],
   "source": [
    "# Calculate the rolling mean of the 'value' column over a window size of 2\n",
    "df['rolling_mean'] = df['value'].rolling(window=2).mean()\n",
    "\n",
    "# Calculate the expanding sum of the 'value' column\n",
    "df['expanding_sum'] = df['value'].expanding().sum()\n",
    "\n",
    "# Calculate the cumulative maximum of the 'value' column\n",
    "df['cum_max'] = df['value'].cummax()\n",
    "\n",
    "print(df)"
   ]
  },
  {
   "cell_type": "code",
   "execution_count": 15,
   "id": "6a732fe8",
   "metadata": {},
   "outputs": [
    {
     "name": "stdout",
     "output_type": "stream",
     "text": [
      "      name  rank\n",
      "0    Alice   1.0\n",
      "1      Bob   2.0\n",
      "2  Charlie   1.0\n",
      "3    David   2.0\n",
      "4     Emma   1.0\n",
      "5    Frank   2.0\n"
     ]
    }
   ],
   "source": [
    "import pandas as pd\n",
    "\n",
    "# Assuming you have a DataFrame named 'data' with columns 'name', 'age', and 'city'\n",
    "# Example data:\n",
    "data = {'name': ['Alice', 'Bob', 'Charlie', 'David', 'Emma', 'Frank'],\n",
    "        'age': [25, 30, 28, 35, 27, 33],\n",
    "        'city': ['New York', 'New York', 'Los Angeles', 'Los Angeles', 'Chicago', 'Chicago']}\n",
    "\n",
    "df = pd.DataFrame(data)\n",
    "\n",
    "# Using pandas to calculate rank over partition by city ordered by age\n",
    "df['rank'] = df.groupby('city')['age'].rank(method='dense')\n",
    "\n",
    "# Selecting name and rank columns\n",
    "result = df[['name', 'rank']]\n",
    "\n",
    "print(result)"
   ]
  },
  {
   "cell_type": "code",
   "execution_count": null,
   "id": "3cf999f2",
   "metadata": {},
   "outputs": [],
   "source": [
    "can you convert this query to pandas \" select name, dense_rank() over(partition by city, country order by age desc)"
   ]
  },
  {
   "cell_type": "code",
   "execution_count": 16,
   "id": "dc33a309",
   "metadata": {},
   "outputs": [
    {
     "name": "stdout",
     "output_type": "stream",
     "text": [
      "      name  dense_rank\n",
      "0    Alice         2.0\n",
      "1      Bob         1.0\n",
      "2  Charlie         2.0\n",
      "3    David         1.0\n",
      "4     Emma         2.0\n",
      "5    Frank         1.0\n"
     ]
    }
   ],
   "source": [
    "import pandas as pd\n",
    "\n",
    "# Example DataFrame\n",
    "data = {'name': ['Alice', 'Bob', 'Charlie', 'David', 'Emma', 'Frank'],\n",
    "        'age': [25, 30, 28, 35, 27, 33],\n",
    "        'city': ['New York', 'New York', 'Los Angeles', 'Los Angeles', 'Chicago', 'Chicago'],\n",
    "        'country': ['USA', 'USA', 'USA', 'USA', 'USA', 'USA']}\n",
    "\n",
    "df = pd.DataFrame(data)\n",
    "\n",
    "# Using pandas to calculate dense rank over partition by city and country ordered by age in descending order\n",
    "df['dense_rank'] = df.groupby(['city', 'country'])['age'].rank(method='dense', ascending=False)\n",
    "\n",
    "# Selecting name and dense_rank columns\n",
    "result = df[['name', 'dense_rank']]\n",
    "\n",
    "print(result)"
   ]
  },
  {
   "cell_type": "code",
   "execution_count": null,
   "id": "641ad691",
   "metadata": {},
   "outputs": [],
   "source": [
    "can you convert this query to pandas \" select name, sum(age) over(partition by city, country order by age desc)"
   ]
  },
  {
   "cell_type": "code",
   "execution_count": 20,
   "id": "712d7e4d",
   "metadata": {},
   "outputs": [
    {
     "name": "stdout",
     "output_type": "stream",
     "text": [
      "      name country         city  age  sum_age\n",
      "0    Alice     USA     New York   25       55\n",
      "1      Bob     USA     New York   30       30\n",
      "2  Charlie     USA  Los Angeles   28       63\n",
      "3    David     USA  Los Angeles   35       35\n",
      "4     Emma     USA      Chicago   27       60\n",
      "5    Frank     USA      Chicago   33       33\n"
     ]
    }
   ],
   "source": [
    "import pandas as pd\n",
    "\n",
    "# Example DataFrame\n",
    "data = {'name': ['Alice', 'Bob', 'Charlie', 'David', 'Emma', 'Frank'],\n",
    "        'age': [25, 30, 28, 35, 27, 33],\n",
    "        'city': ['New York', 'New York', 'Los Angeles', 'Los Angeles', 'Chicago', 'Chicago'],\n",
    "        'country': ['USA', 'USA', 'USA', 'USA', 'USA', 'USA']}\n",
    "\n",
    "df = pd.DataFrame(data)\n",
    "\n",
    "# Calculate the sum of age within each group defined by city and country, ordered by age in descending order\n",
    "df['sum_age'] = df.groupby(['city', 'country'])['age'].transform(lambda x: x.sort_values(ascending=False).cumsum())\n",
    "\n",
    "# Selecting name and sum_age columns\n",
    "result = df[['name','country', 'city','age','sum_age']]\n",
    "\n",
    "print(result)"
   ]
  },
  {
   "cell_type": "code",
   "execution_count": null,
   "id": "dc1f71fa",
   "metadata": {},
   "outputs": [],
   "source": [
    "from pyspark.sql import SparkSession\n",
    "from pyspark.sql.window import Window\n",
    "from pyspark.sql.functions import sum, col\n",
    "\n",
    "# Create a SparkSession\n",
    "spark = SparkSession.builder \\\n",
    "    .appName(\"Window Function Example\") \\\n",
    "    .getOrCreate()\n",
    "\n",
    "# Example DataFrame\n",
    "data = [('Alice', 25, 'New York', 'USA'),\n",
    "        ('Bob', 30, 'New York', 'USA'),\n",
    "        ('Charlie', 28, 'Los Angeles', 'USA'),\n",
    "        ('David', 35, 'Los Angeles', 'USA'),\n",
    "        ('Emma', 27, 'Chicago', 'USA'),\n",
    "        ('Frank', 33, 'Chicago', 'USA')]\n",
    "\n",
    "columns = ['name', 'age', 'city', 'country']\n",
    "\n",
    "df = spark.createDataFrame(data, columns)\n",
    "\n",
    "# Define the window specification\n",
    "window_spec = Window.partitionBy('city', 'country').orderBy(col('age').desc())\n",
    "\n",
    "# Apply the window function to calculate the sum of age within each partition\n",
    "result = df.withColumn('sum_age', sum(col('age')).over(window_spec))\n",
    "\n",
    "# Selecting name and sum_age columns\n",
    "result.select('name', 'sum_age').show()\n",
    "\n",
    "# Stop the SparkSession\n",
    "spark.stop()\n"
   ]
  },
  {
   "cell_type": "code",
   "execution_count": null,
   "id": "5e69df5b",
   "metadata": {},
   "outputs": [],
   "source": [
    "can you convert this query to pyspark\" select name, dense_rank() over(partition by city, country order by age desc)"
   ]
  },
  {
   "cell_type": "code",
   "execution_count": null,
   "id": "d1186f65",
   "metadata": {},
   "outputs": [],
   "source": [
    "from pyspark.sql import SparkSession\n",
    "from pyspark.sql.window import Window\n",
    "from pyspark.sql.functions import dense_rank, col\n",
    "\n",
    "# Create a SparkSession\n",
    "spark = SparkSession.builder \\\n",
    "    .appName(\"Window Function Example\") \\\n",
    "    .getOrCreate()\n",
    "\n",
    "# Example DataFrame\n",
    "data = [('Alice', 25, 'New York', 'USA'),\n",
    "        ('Bob', 30, 'New York', 'USA'),\n",
    "        ('Charlie', 28, 'Los Angeles', 'USA'),\n",
    "        ('David', 35, 'Los Angeles', 'USA'),\n",
    "        ('Emma', 27, 'Chicago', 'USA'),\n",
    "        ('Frank', 33, 'Chicago', 'USA')]\n",
    "\n",
    "columns = ['name', 'age', 'city', 'country']\n",
    "\n",
    "df = spark.createDataFrame(data, columns)\n",
    "\n",
    "# Define the window specification\n",
    "window_spec = Window.partitionBy('city', 'country').orderBy(col('age').desc())\n",
    "\n",
    "# Apply the dense_rank() window function to calculate the dense rank of age within each partition\n",
    "result = df.withColumn('dense_rank', dense_rank().over(window_spec))\n",
    "\n",
    "# Selecting name and dense_rank columns\n",
    "result.select('name', 'dense_rank').show()\n",
    "\n",
    "# Stop the SparkSession\n",
    "spark.stop()"
   ]
  },
  {
   "cell_type": "code",
   "execution_count": null,
   "id": "2827e5f4",
   "metadata": {},
   "outputs": [],
   "source": [
    "import pandas as pd\n",
    "\n",
    "# Read the JSON file into a pandas DataFrame\n",
    "df = pd.read_json('your_json_file.json')\n",
    "\n",
    "# Display the DataFrame\n",
    "print(df)\n",
    "import pandas as pd\n",
    "import json\n",
    "\n",
    "\n",
    "# Read the JSON file\n",
    "with open('your_json_file.json') as f:\n",
    "    data = json.load(f)\n",
    "\n",
    "# Flatten the JSON data\n",
    "flattened_data = pd.json_normalize(data)\n",
    "\n",
    "# Create a DataFrame\n",
    "df = pd.DataFrame(flattened_data)\n",
    "\n",
    "# Display the DataFrame\n",
    "print(df)\n"
   ]
  },
  {
   "cell_type": "code",
   "execution_count": 21,
   "id": "8c86f7ee",
   "metadata": {},
   "outputs": [
    {
     "name": "stdout",
     "output_type": "stream",
     "text": [
      "Object `you` not found.\n"
     ]
    }
   ],
   "source": [
    "hi! How can I help you?"
   ]
  },
  {
   "cell_type": "code",
   "execution_count": null,
   "id": "78186c9a",
   "metadata": {},
   "outputs": [],
   "source": [
    "hi! How can I help you"
   ]
  },
  {
   "cell_type": "code",
   "execution_count": null,
   "id": "515fea41",
   "metadata": {},
   "outputs": [],
   "source": [
    "tell me "
   ]
  },
  {
   "cell_type": "code",
   "execution_count": null,
   "id": "c01e7f4e",
   "metadata": {},
   "outputs": [],
   "source": [
    "hello i am kishan and how can i help you"
   ]
  },
  {
   "cell_type": "code",
   "execution_count": null,
   "id": "89cca7f4",
   "metadata": {},
   "outputs": [],
   "source": []
  },
  {
   "cell_type": "code",
   "execution_count": null,
   "id": "f5127321",
   "metadata": {},
   "outputs": [],
   "source": [
    "https://blog.hubspot.com/website/decorators-in-python#:~:text=Decorators%20are%20a%20powerful%20and,caching%2C%20logging%2C%20or%20authentication."
   ]
  },
  {
   "cell_type": "code",
   "execution_count": null,
   "id": "c3d0b0e6",
   "metadata": {},
   "outputs": [],
   "source": []
  },
  {
   "cell_type": "code",
   "execution_count": null,
   "id": "e8bc4daf",
   "metadata": {},
   "outputs": [],
   "source": [
    "Types of Decorators in Python\n",
    "\n",
    "Function Decorator\n",
    "Class Decorator\n",
    "decorator with arguments"
   ]
  },
  {
   "cell_type": "code",
   "execution_count": 22,
   "id": "bd89ec2c",
   "metadata": {},
   "outputs": [
    {
     "name": "stdout",
     "output_type": "stream",
     "text": [
      "Something is happening before the function is called.\n",
      "Hello!\n",
      "Something is happening after the function is called.\n"
     ]
    }
   ],
   "source": [
    "def my_decorator(func):\n",
    "    def wrapper():\n",
    "        print(\"Something is happening before the function is called.\")\n",
    "        func()\n",
    "        print(\"Something is happening after the function is called.\")\n",
    "    return wrapper\n",
    "\n",
    "@my_decorator\n",
    "def say_hello():\n",
    "    print(\"Hello!\")\n",
    "\n",
    "say_hello()\n"
   ]
  },
  {
   "cell_type": "code",
   "execution_count": 23,
   "id": "a26e88c7",
   "metadata": {},
   "outputs": [
    {
     "name": "stdout",
     "output_type": "stream",
     "text": [
      "Something is happening before initializing the class.\n",
      "Something is happening after initializing the class.\n",
      "John\n"
     ]
    }
   ],
   "source": [
    "def my_class_decorator(cls):\n",
    "    class NewClass(cls):\n",
    "        def __init__(self, *args, **kwargs):\n",
    "            print(\"Something is happening before initializing the class.\")\n",
    "            super().__init__(*args, **kwargs)\n",
    "            print(\"Something is happening after initializing the class.\")\n",
    "    return NewClass\n",
    "\n",
    "@my_class_decorator\n",
    "class MyClass:\n",
    "    def __init__(self, name):\n",
    "        self.name = name\n",
    "\n",
    "obj = MyClass(\"John\")\n",
    "print(obj.name)\n"
   ]
  },
  {
   "cell_type": "code",
   "execution_count": 24,
   "id": "1ea0dfe3",
   "metadata": {},
   "outputs": [
    {
     "name": "stdout",
     "output_type": "stream",
     "text": [
      "Decorator arguments: arg1_value, arg2_value\n",
      "Hello, Alice!\n"
     ]
    }
   ],
   "source": [
    "def my_decorator_with_args(arg1, arg2):\n",
    "    def decorator(func):\n",
    "        def wrapper(*args, **kwargs):\n",
    "            print(f\"Decorator arguments: {arg1}, {arg2}\")\n",
    "            func(*args, **kwargs)\n",
    "        return wrapper\n",
    "    return decorator\n",
    "\n",
    "@my_decorator_with_args(\"arg1_value\", \"arg2_value\")\n",
    "def say_hello(name):\n",
    "    print(f\"Hello, {name}!\")\n",
    "\n",
    "say_hello(\"Alice\")"
   ]
  },
  {
   "cell_type": "code",
   "execution_count": 25,
   "id": "969ab512",
   "metadata": {},
   "outputs": [
    {
     "name": "stdout",
     "output_type": "stream",
     "text": [
      "Buddy makes bark sound.\n",
      "Whiskers makes meow sound.\n"
     ]
    }
   ],
   "source": [
    "class Animal:\n",
    "    def __init__(self, name, sound):\n",
    "        self.name = name\n",
    "        self.sound = sound\n",
    "    \n",
    "    def make_sound(self):\n",
    "        print(f\"{self.name} makes {self.sound} sound.\")\n",
    "\n",
    "class Dog(Animal):\n",
    "    def __init__(self, name):\n",
    "        super().__init__(name, \"bark\")\n",
    "\n",
    "class Cat(Animal):\n",
    "    def __init__(self, name):\n",
    "        super().__init__(name, \"meow\")\n",
    "\n",
    "# Creating instances of subclasses\n",
    "dog = Dog(\"Buddy\")\n",
    "cat = Cat(\"Whiskers\")\n",
    "\n",
    "# Using methods inherited from the superclass\n",
    "dog.make_sound()  # Output: Buddy makes bark sound.\n",
    "cat.make_sound()  # Output: Whiskers makes meow sound.\n"
   ]
  },
  {
   "cell_type": "code",
   "execution_count": null,
   "id": "c0dd23f4",
   "metadata": {},
   "outputs": [],
   "source": []
  },
  {
   "cell_type": "markdown",
   "id": "23061150",
   "metadata": {},
   "source": [
    "In Python, `super()` is a built-in function used to call methods and access attributes from the parent class (superclass) within a subclass. In the context of `super().__init__(name, \"bark\")`, `super()` is used to call the constructor (`__init__` method) of the superclass (`Animal` in this case) with the provided arguments `name` and `\"bark\"`.\n",
    "\n",
    "So, `super().__init__(name, \"bark\")` is calling the constructor of the superclass `Animal` with the arguments `name` and `\"bark\"`. This allows the `Dog` class to initialize its instances (`Dog` objects) using the initialization logic defined in the `Animal` class while also providing specific values for the `name` and `sound` attributes.\n",
    "\n",
    "In other words, it's a way to reuse the initialization logic defined in the superclass, avoiding code duplication in subclasses."
   ]
  },
  {
   "cell_type": "code",
   "execution_count": null,
   "id": "8f8fcc0a",
   "metadata": {},
   "outputs": [],
   "source": []
  }
 ],
 "metadata": {
  "kernelspec": {
   "display_name": "Python 3 (ipykernel)",
   "language": "python",
   "name": "python3"
  },
  "language_info": {
   "codemirror_mode": {
    "name": "ipython",
    "version": 3
   },
   "file_extension": ".py",
   "mimetype": "text/x-python",
   "name": "python",
   "nbconvert_exporter": "python",
   "pygments_lexer": "ipython3",
   "version": "3.9.12"
  }
 },
 "nbformat": 4,
 "nbformat_minor": 5
}
